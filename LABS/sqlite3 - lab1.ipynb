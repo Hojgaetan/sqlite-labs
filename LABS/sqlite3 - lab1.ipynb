{
 "cells": [
  {
   "metadata": {},
   "cell_type": "markdown",
   "source": [
    "## Level of difficulty\n",
    "Easy\n",
    "\n",
    "## Estimated time\n",
    "15 minutes\n",
    "\n",
    "## Objectives\n",
    "- improving the student's skill in interacting with the SQLite Database;\n",
    "- using known methods of the Cursor() object\n",
    "\n",
    "### Scenario\n",
    "Our TODO application requires to add a little security and display the data saved in the database. Your task is to implement the following functionnalities:\n",
    "\n",
    "1. Create a find_task method, wich takes the name as it argument. The method should return the record found or None otherwise.\n",
    "2. Block the ability to enter an empty task (the name cannot be an empty string)\n",
    "3. Block the ability to enter a task priority less than 1.\n",
    "4. Use the find_task method to block the ability to enter a task with the same name.\n",
    "5. Create a methode called show_tasks, responsible for displaying all tasks saved in the database"
   ],
   "id": "e096270df10fe5f7"
  }
 ],
 "metadata": {
  "kernelspec": {
   "display_name": "Python 3",
   "language": "python",
   "name": "python3"
  },
  "language_info": {
   "codemirror_mode": {
    "name": "ipython",
    "version": 2
   },
   "file_extension": ".py",
   "mimetype": "text/x-python",
   "name": "python",
   "nbconvert_exporter": "python",
   "pygments_lexer": "ipython2",
   "version": "2.7.6"
  }
 },
 "nbformat": 4,
 "nbformat_minor": 5
}
